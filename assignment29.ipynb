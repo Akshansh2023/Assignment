{
 "cells": [
  {
   "cell_type": "code",
   "execution_count": null,
   "id": "962930c8-da33-49a5-9e25-e653853dd229",
   "metadata": {},
   "outputs": [],
   "source": [
    "1. Who developed Python Programming Language?\n",
    "Guido van Rossum\n"
   ]
  },
  {
   "cell_type": "code",
   "execution_count": null,
   "id": "b6eee638-0969-4088-99a9-21ec343e0470",
   "metadata": {
    "tags": []
   },
   "outputs": [],
   "source": [
    "2. Which type of Programming does Python support?\n",
    "Object-oriented programming\n"
   ]
  },
  {
   "cell_type": "code",
   "execution_count": null,
   "id": "0e6a17aa-e450-4511-b105-4d539b4baabc",
   "metadata": {},
   "outputs": [],
   "source": [
    "3.Is Python case sensitive when dealing with identifiers?\n",
    "Yes. As you might be knowing that Python is a case-sensitive programming language. So, Python is case sensitive when dealing with Identifiers.\n"
   ]
  },
  {
   "cell_type": "code",
   "execution_count": null,
   "id": "5b7a7893-00c2-4192-b58e-83cc3aa36228",
   "metadata": {},
   "outputs": [],
   "source": [
    "4. What is the correct extension of the Python file?\n",
    "When creating programs and code in Python, the correct file extension for your code is .py. There are also .pyc, .pyo and .pyd file extensions\n"
   ]
  },
  {
   "cell_type": "code",
   "execution_count": null,
   "id": "5d37aff7-3439-495b-bcf8-46312206fac2",
   "metadata": {},
   "outputs": [],
   "source": [
    "5.Is Python code compiled or interpreted?\n",
    "Python is a “COMPILED INTERPRETED” language. Compiles and converts it to bytecode, and directly bytecode is loaded in system memory. Then compiled bytecode interpreted from memory to execute it. Whereas other languages like c convert programs to machine code and save them as executables in the disk.\n"
   ]
  },
  {
   "cell_type": "code",
   "execution_count": null,
   "id": "2772ee05-367b-4ac5-ab47-56d40a3894b0",
   "metadata": {},
   "outputs": [],
   "source": [
    "6. Name a few blocks of code used to define in Python language?\n",
    "Python uses indentation to define blocks of code. Indentations are simply spaces or tabs used as an indicator that is part of the indent code child.\n",
    "if (condition):\n",
    "    # Statement 1\n",
    "    # Statement 2\n",
    "    # Statement 3\n",
    "else:\n",
    "    # Statement 4\n",
    "    # Statement 5\n",
    "    # Statement 6\n",
    "You will find that statements 1,2,3 will have the same indentation and therefore is of the same block. And similarly, statements 4,5,6 is of a another block.\n"
   ]
  },
  {
   "cell_type": "code",
   "execution_count": null,
   "id": "524cae71-5d4b-4ed8-82ca-aa16a16f9357",
   "metadata": {},
   "outputs": [],
   "source": [
    "7. State a character used to give single-line comments in Python?\n",
    "# symbol to write a single-line comment.\n"
   ]
  },
  {
   "cell_type": "code",
   "execution_count": null,
   "id": "fecf4fc5-ceb4-43cf-b42e-c54bffb11a3d",
   "metadata": {},
   "outputs": [],
   "source": [
    "8. Mention functions which can help us to find the version of python that we are currently working on?\n",
    "The function sys.version can help us to find the version of python that we are currently working on.\n"
   ]
  },
  {
   "cell_type": "code",
   "execution_count": null,
   "id": "a2895823-3c5c-406b-8ead-5c035ad3785a",
   "metadata": {},
   "outputs": [],
   "source": [
    "9. Python supports the creation of anonymous functions at runtime, using a construct called\n",
    "Lambda\n"
   ]
  },
  {
   "cell_type": "code",
   "execution_count": null,
   "id": "46dd09a5-b0c8-4596-a300-0f24b24034e6",
   "metadata": {},
   "outputs": [],
   "source": [
    "10. What does pip stand for python?\n",
    "Preferred Installer Program\n"
   ]
  },
  {
   "cell_type": "code",
   "execution_count": null,
   "id": "fb48216e-8641-4343-af75-bfd49a26c92e",
   "metadata": {},
   "outputs": [],
   "source": [
    "11. Mention a few built- in functions in python?\n",
    " 1.  bool()\n",
    "This function takes a value as an argument and returns either True or False. It gives True if the value is not empty/zero/False. Or else it returns False. For example,\n",
    "Example of bool() function:\n",
    "\tbool(7)\n",
    "\tbool([])\n",
    "\tbool(False)\n",
    "Output:\n",
    "\tTrue\n",
    "\tFalse\n",
    "\tFalse\n",
    "2. chr()\n",
    "This function takes the Unicode value as an input and returns the respective character. For example,\n",
    "Example of chr() function:\n",
    "\tchr(45)\n",
    "\tchr(66)\n",
    "Output:\n",
    "\t‘-‘\n",
    "\t‘B’\n",
    "3.dict()\n",
    "This function converts the input into the dictionary data type and returns it. For example,\n",
    "Example of dict() function:\n",
    "dict()\n",
    "dict([('a','e'),(1,2)])\n",
    "dict(a=4,b=5)\n",
    "Output:\n",
    "{}\n",
    "{‘a’: ‘e’, 1: 2}\n",
    "{‘a’: 4, ‘b’: 5}\n"
   ]
  },
  {
   "cell_type": "code",
   "execution_count": null,
   "id": "94a811c2-c472-460f-adb0-01eaa7f3d803",
   "metadata": {},
   "outputs": [],
   "source": [
    "Example of chr() function:\n",
    "\tchr(45)\n",
    "\tchr(66)\n",
    "Output:\n",
    "\t‘-‘\n",
    "\t‘B’\n",
    "3.dict()\n",
    "This function converts the input into the dictionary data type and returns it. For example,\n",
    "Example of dict() function:\n",
    "dict()\n",
    "dict([('a','e'),(1,2)])\n",
    "dict(a=4,b=5)\n",
    "Output:\n",
    "{}\n",
    "{‘a’: ‘e’, 1: 2}\n",
    "{‘a’: 4, ‘b’: 5}\n"
   ]
  },
  {
   "cell_type": "code",
   "execution_count": null,
   "id": "d03323e1-d543-4382-90aa-f91c21b71fed",
   "metadata": {},
   "outputs": [],
   "source": [
    "12. What is the maximum possible length of an identifier in Python?\n",
    "79 characters\n"
   ]
  },
  {
   "cell_type": "code",
   "execution_count": null,
   "id": "0ad44eb8-1de1-456c-8653-cb32edd40959",
   "metadata": {},
   "outputs": [],
   "source": [
    "13. What are the benefits of using Python?\n",
    "1. Simple and Easy to learn\n",
    "2. Portable and Extensible\n",
    "3.Object-Oriented Programming\n",
    "4.Artificial Intelligence\n",
    "5.Big Data\n",
    "Python can handle plenty of an immense amount of data. \n"
   ]
  },
  {
   "cell_type": "code",
   "execution_count": null,
   "id": "b9ec5da7-f23a-407e-8539-09370cfdd510",
   "metadata": {},
   "outputs": [],
   "source": [
    "14. How is memory managed in Python?\n",
    "Memory in Python is managed by Python private heap space.\n",
    "All Python objects and data structures are located in a private heap. This private heap is taken care of by Python Interpreter itself, and a programmer doesn’t have access to this private heap.\n",
    "Python memory manager takes care of the allocation of Python private heap space.\n",
    "Memory for Python private heap space is made available by Python’s in-built garbage collector, which recycles and frees up all the unused memory.\n",
    " The allocation of heap space for Python objects and other internal buffers is performed on demand by the Python memory manager through the Python/C API functions listed in this document.\n",
    "To avoid memory corruption, extension writers should never try to operate on Python objects with the functions exported by the C library: malloc(), calloc(), realloc() and free().\n"
   ]
  },
  {
   "cell_type": "code",
   "execution_count": null,
   "id": "f41f8fab-f607-4355-a420-414ae97826af",
   "metadata": {},
   "outputs": [],
   "source": [
    "15. How to install Python on Windows and set path variables?\n",
    "First, we need to locate where the python is being installed after downloading it. Press WINDOWS key and search for “Python”, you will get something like this:Click on open file location and you will be in a location where Python is installed, Copy the location path from the top by clicking over it.\n",
    "Now, we have to add the above-copied path as a variable so that windows can recognize. Search for “Environmental Variables”, you will see something like this:\n",
    "Click on that(\n",
    "Now click the “Environmental Variables” button"
   ]
  },
  {
   "cell_type": "code",
   "execution_count": null,
   "id": "6296f81d-c7bf-4ebc-aa30-f2dbbf239e5e",
   "metadata": {},
   "outputs": [],
   "source": []
  },
  {
   "cell_type": "code",
   "execution_count": null,
   "id": "c736cae6-b76b-4084-9ca5-22c4c8f92a2e",
   "metadata": {},
   "outputs": [],
   "source": []
  }
 ],
 "metadata": {
  "kernelspec": {
   "display_name": "Python 3 (ipykernel)",
   "language": "python",
   "name": "python3"
  },
  "language_info": {
   "codemirror_mode": {
    "name": "ipython",
    "version": 3
   },
   "file_extension": ".py",
   "mimetype": "text/x-python",
   "name": "python",
   "nbconvert_exporter": "python",
   "pygments_lexer": "ipython3",
   "version": "3.10.8"
  }
 },
 "nbformat": 4,
 "nbformat_minor": 5
}
